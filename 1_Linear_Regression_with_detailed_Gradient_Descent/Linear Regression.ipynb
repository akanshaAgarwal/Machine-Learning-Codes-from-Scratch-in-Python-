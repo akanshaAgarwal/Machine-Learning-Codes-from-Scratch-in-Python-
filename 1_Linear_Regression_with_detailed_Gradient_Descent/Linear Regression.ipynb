{
 "cells": [
  {
   "cell_type": "markdown",
   "metadata": {},
   "source": [
    "# Linear Regression\n",
    "Linear Regression is supervised machine learning algorithm which is used to determine a line of best fit in the given data. It makes use of a cost function, which we minimize using optimization algorithms like gradient descent to get the minimum value of cost function and the corresponding value of $\\theta$ , which is used to make a linear model for our dataset.  <br><br>\n",
    "$ h(\\theta_0,\\theta_1) = \\theta_0 + \\theta_1 X $ <br><br>\n",
    "$ J(\\theta_0 , \\theta_1) = \\frac{1}{2m} \\sum_{i=1}^m ( h(\\theta_0,\\theta_1) - Y ) $ <br><br>\n",
    "\n",
    "### Gradient Descent\n",
    "Used for optimization of loss function. The algorithm gor gradient descent is as follows : <br><br>\n",
    "repeat until convergence {<br><br>\n",
    "    $\\,\\,\\,\\, \\theta_j := \\theta_j - \\alpha \\frac{\\partial J(\\theta_0,\\theta_1)}{\\partial \\theta_j} $<br>\n",
    "    $\\,\\,\\,\\,$// simulateous updates of all the $\\theta$ values <br><br>\n",
    "}<br>\n"
   ]
  },
  {
   "cell_type": "code",
   "execution_count": 28,
   "metadata": {},
   "outputs": [],
   "source": [
    "# import the numpy library which is a fundamental package for scientific computing with Python\n",
    "from numpy import *\n",
    "import matplotlib.pyplot as plt"
   ]
  },
  {
   "cell_type": "markdown",
   "metadata": {},
   "source": [
    "### SSE (Sum of Squares Error)\n",
    "The equation for the calculation of this error is given by : <br><br>\n",
    "$ \\sum_{i=1}^n (x - x_{mean})^2 $<br><br>\n",
    "The error in linear regression is defined as : <br><br>\n",
    "$ Error_{(m,b)} = \\frac{1}{N} \\sum_{i=1}^N (y_i - (mx_i + b))^2 $<br><br>\n",
    "\n",
    "#### Explanation : \n",
    "We have an initial y value in our dataset ($y_i$), from which we subtract the y value obtained by calculating mx + b .\n",
    "We are calculating the distance between the y in our dataset and the corresponding y on our line, and then squaring it. We square it for two reasons : firstly we do not want any neagtive values beacuse we need to sum all the distances together and secondly we dont actually care about the value itself, we are more concerned with the magnitude. <br>\n",
    "\n",
    "So, we are calculating the SSE and work on minimizing this error."
   ]
  },
  {
   "cell_type": "code",
   "execution_count": 10,
   "metadata": {},
   "outputs": [],
   "source": [
    "# this function is used to calculate the sum of squares error (SSE)\n",
    "def compute_error_for_given_points(b,m,points):\n",
    "    totalError = 0\n",
    "    for i in range(0,len(points)):\n",
    "        x = points[i,0]\n",
    "        y = points[i,1]\n",
    "        totalError += (y - (m*x + b)) **2\n",
    "    return totalError / float(len(points))"
   ]
  },
  {
   "cell_type": "markdown",
   "metadata": {},
   "source": [
    "### Gradient Descent Calculations\n",
    "The following derivatives are calculated for gradient descent : <br><br>\n",
    "$ \\frac{\\partial}{\\partial m} = \\frac{2}{N} \\sum_{i=1}^N -x_i(y_i - (mx_i + b)) $<br><br>\n",
    "$ \\frac{\\partial}{\\partial b} = \\frac{2}{N} \\sum_{i=1}^N -(y_i - (mx_i + b)) $<br><br>"
   ]
  },
  {
   "cell_type": "code",
   "execution_count": 16,
   "metadata": {},
   "outputs": [],
   "source": [
    "# this is the function where we implement the gradient descent\n",
    "def step_gradient(b,m,points,learning_rate):\n",
    "    # gradinet descent\n",
    "    b_gradient = 0\n",
    "    m_gradient = 0\n",
    "    N = float(len(points))\n",
    "    for i in range(0,len(points)):\n",
    "        x = points[i,0]\n",
    "        y = points[i,1]\n",
    "        b_gradient += -(2/N) * (y - ((m*x) + b))\n",
    "        m_gradient += -(2/N) * (y - ((m*x) + b)) * x\n",
    "    new_b = b - (learning_rate * b_gradient)\n",
    "    new_m = m - (learning_rate * m_gradient)\n",
    "    return [new_b,new_m]"
   ]
  },
  {
   "cell_type": "code",
   "execution_count": 17,
   "metadata": {},
   "outputs": [],
   "source": [
    "# this function is used to call the gradinet descent function multiple times (num_iterations)\n",
    "def gradient_descent_runner(points,initial_b,initial_m,learning_rate,num_iterations):\n",
    "    b=initial_b\n",
    "    m=initial_m\n",
    "    for i in range(num_iterations):\n",
    "        b,m = step_gradient(b,m,array(points),learning_rate)\n",
    "    return [b,m]"
   ]
  },
  {
   "cell_type": "markdown",
   "metadata": {},
   "source": [
    "### Matplotlib\n",
    "Matplotlib is a plotting library for the Python programming language and its numerical mathematics extension NumPy.<br>\n",
    "Here we use matplotlib to plot the data points along with the regression line.  <br>"
   ]
  },
  {
   "cell_type": "code",
   "execution_count": 32,
   "metadata": {},
   "outputs": [],
   "source": [
    "def plot__simple_graph(data,b,m):\n",
    "    plt.figure(figsize=(10,5))\n",
    "    plt.title('Marks vs Study Hours')\n",
    "    plt.scatter(x=data[:,0],y=data[:,1])\n",
    "    plt.plot(data[:,0], m*data[:,0] + b,color='red',label='Our Fitting Line')\n",
    "    plt.xlabel('Study Hours')\n",
    "    plt.ylabel('Marks')\n",
    "    plt.show()"
   ]
  },
  {
   "cell_type": "code",
   "execution_count": 38,
   "metadata": {},
   "outputs": [
    {
     "name": "stdout",
     "output_type": "stream",
     "text": [
      "Starting values : \n",
      "m =  0  , b =  0  , error =  5565.107834483211\n"
     ]
    },
    {
     "data": {
      "image/png": "[encoded data removed]",
      "text/plain": [
       "<Figure size 720x360 with 1 Axes>"
      ]
     },
     "metadata": {},
     "output_type": "display_data"
    },
    {
     "name": "stdout",
     "output_type": "stream",
     "text": [
      "Final values : \n",
      "m =  1.4777440851894448  , b =  0.08893651993741344  , error =  112.61481011613473\n"
     ]
    },
    {
     "data": {
      "image/png": "[encoded data removed]",
      "text/plain": [
       "<Figure size 720x360 with 1 Axes>"
      ]
     },
     "metadata": {},
     "output_type": "display_data"
    }
   ],
   "source": [
    "# main function where we load the data, initialize the variables with initial values and call the gradient descent runner\n",
    "def run():\n",
    "    points = genfromtxt('data.csv',delimiter = ',')\n",
    "    #hyperparameters (alpha) -> should neither be too low nor too high\n",
    "    learning_rate = 0.0001\n",
    "    # y= mx + b\n",
    "    initial_b = 0\n",
    "    initial_m = 0\n",
    "    num_iterations = 1000\n",
    "    \n",
    "    print('Starting values : ')\n",
    "    print('m = ',initial_m,' , b = ',initial_b,' , error = ',compute_error_for_given_points(initial_b,initial_m,points))\n",
    "    plot__simple_graph(points,initial_b,initial_m)\n",
    "    [b, m] = gradient_descent_runner(points,initial_b,initial_m,learning_rate,num_iterations)\n",
    "    print('Final values : ')\n",
    "    print('m = ',m,' , b = ',b,' , error = ',compute_error_for_given_points(b,m,points))\n",
    "    plot__simple_graph(points,b,m)\n",
    "    \n",
    "\n",
    "run()"
   ]
  },
  {
   "cell_type": "code",
   "execution_count": null,
   "metadata": {},
   "outputs": [],
   "source": []
  },
  {
   "cell_type": "code",
   "execution_count": null,
   "metadata": {},
   "outputs": [],
   "source": []
  }
 ],
 "metadata": {
  "kernelspec": {
   "display_name": "Python 3",
   "language": "python",
   "name": "python3"
  },
  "language_info": {
   "codemirror_mode": {
    "name": "ipython",
    "version": 3
   },
   "file_extension": ".py",
   "mimetype": "text/x-python",
   "name": "python",
   "nbconvert_exporter": "python",
   "pygments_lexer": "ipython3",
   "version": "3.6.5"
  }
 },
 "nbformat": 4,
 "nbformat_minor": 2
}
