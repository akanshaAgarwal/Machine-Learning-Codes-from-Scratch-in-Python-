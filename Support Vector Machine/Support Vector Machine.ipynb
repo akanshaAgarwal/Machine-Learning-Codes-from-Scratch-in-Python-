{
 "cells": [
  {
   "cell_type": "markdown",
   "metadata": {},
   "source": [
    "# Support Vector Machine\n",
    "\n",
    "Support Vector Machine is a supervised machine learning algorithm used for classification and regression problems. We plot each data item as a point in n-dimension space (n is the number of features) where value of each feature corresponds to value of each co-ordinate. To perform classification we try to find a hyper-plane which can differenciate between the two classes (using gradient descent). <br><br>\n",
    "<img src=\"SVM.jpg\" width=\"300\" height=\"300\"> <br><br>\n",
    "### Hyper-Plane\n",
    "A hyper-plane is a linear decision surface that splits the space into two parts i.e. it acts like a binary classifier. <br>\n",
    "If our data has n dimentions (n features) then our hyper-plane is of (n-1) dimension.<br><br>\n",
    "### Support Vectors\n",
    "Support Vectors are the data points nearest to the hyperplane, the points of data set that, if removed, would alter the position of the dividing hyperplane. They are critical elements of a dataset which help us build our SVM.<br><br>"
   ]
  },
  {
   "cell_type": "code",
   "execution_count": 34,
   "metadata": {},
   "outputs": [],
   "source": [
    "# for mathematical operations\n",
    "import numpy as np\n",
    "# for plotting of data\n",
    "from matplotlib import pyplot as plt"
   ]
  },
  {
   "cell_type": "code",
   "execution_count": 35,
   "metadata": {},
   "outputs": [
    {
     "data": {
      "text/plain": [
       "[<matplotlib.lines.Line2D at 0x7fd1e6451d30>]"
      ]
     },
     "execution_count": 35,
     "metadata": {},
     "output_type": "execute_result"
    },
    {
     "data": {
      "image/png": "[encoded data removed]",
      "text/plain": [
       "<Figure size 432x288 with 1 Axes>"
      ]
     },
     "metadata": {},
     "output_type": "display_data"
    }
   ],
   "source": [
    "# Step 1 : Define data [X value, Y value, Bias value]\n",
    "X = np.array([\n",
    "    [-2,4,-1],\n",
    "    [4,1,-1],\n",
    "    [1,6,-1],\n",
    "    [2,4,-1],\n",
    "    [6,2,-1],\n",
    "])\n",
    "\n",
    "# labels associated to data\n",
    "Y = [-1,-1,1,1,1]\n",
    "\n",
    "# plot data points with sample hyperplane\n",
    "for d,sample in enumerate(X):\n",
    "    # Plot the negative samples (first 2)\n",
    "    if d<2:\n",
    "        plt.scatter(sample[0],sample[1],s=120,marker='_',linewidths=2)\n",
    "    # Plot the positive samples (last 3)\n",
    "    else:\n",
    "        plt.scatter(sample[0],sample[1],s=120,marker='+',linewidths=2)\n",
    "\n",
    "# Print the possible hyperplane (just a naive guess)\n",
    "plt.plot([-2,6],[6,0.5])\n"
   ]
  },
  {
   "cell_type": "markdown",
   "metadata": {},
   "source": [
    "### Loss or Error Function (to minimize)\n",
    "In SVM we will use Hinge Loss. This loss function is used for training classifiers. It is used for 'maximun margin' classification and hence in SVM.<br><br>\n",
    "$ \\,\\,\\,\\, c(x, y, f(x)) = (1 - y * f(x))_+ $<br><br>\n",
    "where c is the loss function, x is the sample, y is the true label, f(x) is the predicted label.<br>\n",
    "(The value of $y*f(x)$ is greater than or equal to 1 always else the value of loss function is 0 as the result is always positive.)<br><br>\n",
    "### Objective function (to optimize)\n",
    "The objective of an SVM consists of two terms. The first term is a regularizer (which is the heart of the SVM) and the second term is the loss (or the total loss).<br> The regularizer keeps a balance between the margin maximization and the loss. If the regularizer is too high, it may result in overfitting of data and if it is too low, it may result in underfitting.<br>\n",
    "The main objective is to find a decision surface which is maximally far away from any data points.<br><br>\n",
    "$ \\,\\,\\,\\, min_w \\lambda \\,\\, {||\\, w \\,||}^2 + \\sum_{i=1}^n (1 - y_i \\langle x_i,w \\rangle)_+ $<br><br>\n",
    "#### How to minimize the loss / optimize the objective function ?\n",
    "This can be done using gradient descent. <br><br>\n",
    "$\\,\\,\\,\\, \\frac{\\partial }{\\partial w_k} \\, \\lambda \\,\\, {||\\, w \\,||}^2 = 2\\lambda w_k $<br>\n",
    "$\\,\\,\\,\\, \\frac{\\partial }{\\partial w_k} \\, (1 - y_i \\langle x_i,w \\rangle)_+ = -y_i x_{ik} $\n",
    "$\\,\\,\\,\\,$ if $ y_i \\langle x_i,w \\rangle < 1 $ $\\,\\,\\,$ else its value is 0<br><br>\n",
    "This means that if we have a misclassified sample (non zero value of gradient of loss term), we update the weight vector w using gradients of both terms, else if classified correctly (zero value of gradient of loss term), we update w by gradient of regularizer.<br><br>\n",
    "Misclassification condition : $\\,\\,\\, y_i \\langle x_i,w \\rangle < 1 $<br>\n",
    "Update rule for weights (misclassified) : $\\,\\,\\, w = w + \\eta (y_i x_i - 2\\lambda w)$<br><br>\n",
    "Correct classification condition : $\\,\\,\\, y_i \\langle x_i,w \\rangle \\geq 1 $<br>\n",
    "Update rule for weights (correctly classified) : $\\,\\,\\, w = w + \\eta ( - 2\\lambda w)$<br><br>\n",
    "where $\\eta$ is the learning rate and $\\lambda$ is the regularizer. (Learning rate is the number of steps the algorithm takes down the gradient on the error curve. It should neither be too high nor too low. The regularizing parameter is taken as 1/epochs, which will decrease as the number of epochs increases. )<br><br>"
   ]
  },
  {
   "cell_type": "code",
   "execution_count": 36,
   "metadata": {},
   "outputs": [],
   "source": [
    "# Stochastic gradient descent to learn the separating hyperplane\n",
    "\n",
    "def svm_sgd_plot(X, Y):\n",
    "    # initialize the weight vector with zeros (3 values)\n",
    "    w = np.zeros(len(X[0]))\n",
    "    eta = 1\n",
    "    epochs = 100000\n",
    "    # list to store misclassifications so we can see change in occurance of error over time\n",
    "    errors = []\n",
    "    \n",
    "    # gradient descent part (training the model)\n",
    "    for epoch in range(1,epochs):\n",
    "        error = 0\n",
    "        for i,x in enumerate(X):\n",
    "            # for misclassification\n",
    "            if (Y[i]*np.dot(X[i],w)) < 1 :\n",
    "                # misclassified update for weights\n",
    "                w = w + eta * ( (X[i]*Y[i]) + (-2*(1/epoch)*w) )\n",
    "                error = 1\n",
    "            else :\n",
    "                # correct classification update for weights\n",
    "                w = w + eta * (-2*(1/epoch)*w)\n",
    "        errors.append(error)\n",
    "        \n",
    "    # plot for rate of occurance of error\n",
    "    plt.plot(errors, '|')\n",
    "    plt.ylim(0.5,1.5)\n",
    "    plt.xlabel('Epochs')\n",
    "    plt.ylabel('Misclassified')\n",
    "    plt.show()\n",
    "    \n",
    "    return w"
   ]
  },
  {
   "cell_type": "code",
   "execution_count": 37,
   "metadata": {},
   "outputs": [
    {
     "data": {
      "image/png": "[encoded data removed]",
      "text/plain": [
       "<Figure size 432x288 with 1 Axes>"
      ]
     },
     "metadata": {},
     "output_type": "display_data"
    },
    {
     "data": {
      "text/plain": [
       "<matplotlib.quiver.Quiver at 0x7fd1e62d6b38>"
      ]
     },
     "execution_count": 37,
     "metadata": {},
     "output_type": "execute_result"
    },
    {
     "data": {
      "image/png": "[encoded data removed]",
      "text/plain": [
       "<Figure size 432x288 with 1 Axes>"
      ]
     },
     "metadata": {},
     "output_type": "display_data"
    }
   ],
   "source": [
    "w = svm_sgd_plot(X,Y)\n",
    "\n",
    "for d,sample in enumerate(X):\n",
    "    # Plot the negative samples (first 2)\n",
    "    if d<2:\n",
    "        plt.scatter(sample[0],sample[1],s=120,marker='_',linewidths=2)\n",
    "    # Plot the positive samples (last 3)\n",
    "    else:\n",
    "        plt.scatter(sample[0],sample[1],s=120,marker='+',linewidths=2)\n",
    "\n",
    "# Add the test samples\n",
    "plt.scatter(2,2, s=120, marker='_', linewidths=2, color='yellow')\n",
    "plt.scatter(4,3, s=120, marker='+', linewidths=2, color='blue')\n",
    "\n",
    "# print the hyperplane calculated by svm_sgd()\n",
    "x2 = [w[0],w[1],-w[1],w[0]]\n",
    "x3 = [w[0],w[1],w[1],-w[0]]\n",
    "\n",
    "x2x3 = np.array([x2,x3])\n",
    "X,Y,U,V = zip(*x2x3)\n",
    "ax = plt.gca()\n",
    "ax.quiver(X,Y,U,V,scale=1,color='blue')"
   ]
  },
  {
   "cell_type": "code",
   "execution_count": null,
   "metadata": {},
   "outputs": [],
   "source": []
  }
 ],
 "metadata": {
  "kernelspec": {
   "display_name": "Python 3",
   "language": "python",
   "name": "python3"
  },
  "language_info": {
   "codemirror_mode": {
    "name": "ipython",
    "version": 3
   },
   "file_extension": ".py",
   "mimetype": "text/x-python",
   "name": "python",
   "nbconvert_exporter": "python",
   "pygments_lexer": "ipython3",
   "version": "3.6.5"
  }
 },
 "nbformat": 4,
 "nbformat_minor": 2
}
