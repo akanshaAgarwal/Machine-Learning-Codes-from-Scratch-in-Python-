{
 "cells": [
  {
   "cell_type": "markdown",
   "metadata": {},
   "source": [
    "## Neural Network implementation from scratch\n",
    "\n",
    "Neural Network is a computer system modelled on human brain and nervous system.<br>\n",
    "It consists of input , hidden and output layers. These networks are used incresingly today because of their \n",
    "vast potential and ability to solve complex problems accurately. <br><br>\n",
    "\n",
    "<br>\n",
    "This code is an easy implementation of the Neural Network , to give a basic idea about how these networks work."
   ]
  },
  {
   "cell_type": "code",
   "execution_count": 1,
   "metadata": {},
   "outputs": [],
   "source": [
    "# import the required libraries\n",
    "\n",
    "import numpy as np\n",
    "% matplotlib inline\n",
    "from matplotlib import pyplot as plt"
   ]
  },
  {
   "cell_type": "code",
   "execution_count": 2,
   "metadata": {},
   "outputs": [],
   "source": [
    "# each point indicates a flower with specific length, width and type(0,1)\n",
    "\n",
    "data = [[3,1.5,1],\n",
    "        [2,1,0],\n",
    "        [4,1.5,1],\n",
    "        [3,1,0],\n",
    "        [3.5,0.5,1],\n",
    "        [2,0.5,0],\n",
    "        [5.5,1,1],\n",
    "        [1,1,0]]\n",
    "mystery_flower = [4.5,1]"
   ]
  },
  {
   "cell_type": "code",
   "execution_count": 38,
   "metadata": {},
   "outputs": [],
   "source": [
    "# network initialization (w1,w2,b) length, width, flower type \n",
    "\n",
    "w1 = np.random.randn() # for length\n",
    "w2 = np.random.randn() # for width\n",
    "b = np.random.randn()"
   ]
  },
  {
   "cell_type": "code",
   "execution_count": 39,
   "metadata": {},
   "outputs": [],
   "source": [
    "# activation function (in this case sigmoid function) and its derivative\n",
    "\n",
    "def sigmoid(x):\n",
    "    return 1/(1+np.exp(-x))\n",
    "\n",
    "def sigmoid_p(x):\n",
    "    return sigmoid(x) * (1-sigmoid(x))"
   ]
  },
  {
   "cell_type": "code",
   "execution_count": 40,
   "metadata": {},
   "outputs": [
    {
     "name": "stdout",
     "output_type": "stream",
     "text": [
      "T =  [-5.         -4.47368421 -3.94736842 -3.42105263 -2.89473684 -2.36842105\n",
      " -1.84210526 -1.31578947 -0.78947368 -0.26315789  0.26315789  0.78947368\n",
      "  1.31578947  1.84210526  2.36842105  2.89473684  3.42105263  3.94736842\n",
      "  4.47368421  5.        ] \n",
      "\n",
      "Y =  [0.00669285 0.01127661 0.0189398  0.03164396 0.05241435 0.08561266\n",
      " 0.1368025  0.21151967 0.31228169 0.43458759 0.56541241 0.68771831\n",
      " 0.78848033 0.8631975  0.91438734 0.94758565 0.96835604 0.9810602\n",
      " 0.98872339 0.99330715] \n",
      "\n",
      "Z =  [0.00664806 0.01114945 0.01858108 0.03064262 0.04966709 0.07828314\n",
      " 0.11808757 0.1667791  0.21476184 0.24572122 0.24572122 0.21476184\n",
      " 0.1667791  0.11808757 0.07828314 0.04966709 0.03064262 0.01858108\n",
      " 0.01114945 0.00664806] \n",
      "\n"
     ]
    },
    {
     "data": {
      "text/plain": [
       "[<matplotlib.lines.Line2D at 0x7f589015fc88>]"
      ]
     },
     "execution_count": 40,
     "metadata": {},
     "output_type": "execute_result"
    },
    {
     "data": {
      "image/png": "[encoded data removed]",
      "text/plain": [
       "<Figure size 432x288 with 1 Axes>"
      ]
     },
     "metadata": {},
     "output_type": "display_data"
    }
   ],
   "source": [
    "# plot the activation function along with its derivative for some random data\n",
    "\n",
    "T = np.linspace(-5,5,20) # from -5 to 5 with 20 sub-divisions\n",
    "print(\"T = \",T,\"\\n\")\n",
    "Y= sigmoid(T)\n",
    "print(\"Y = \",Y,\"\\n\")\n",
    "Z= sigmoid_p(T)\n",
    "print(\"Z = \",Z,\"\\n\")\n",
    "plt.plot(T,Y,c='r')\n",
    "plt.plot(T,Z,c='b')"
   ]
  },
  {
   "cell_type": "code",
   "execution_count": 41,
   "metadata": {},
   "outputs": [
    {
     "data": {
      "image/png": "[encoded data removed]",
      "text/plain": [
       "<Figure size 432x288 with 1 Axes>"
      ]
     },
     "metadata": {},
     "output_type": "display_data"
    }
   ],
   "source": [
    "# scatter plot of data\n",
    "\n",
    "plt.axis([0,6,0,6])\n",
    "plt.grid()\n",
    "for i in range(len(data)):\n",
    "    point = data[i]\n",
    "    color = \"r\"\n",
    "    if point[2]==0:\n",
    "        color = \"b\"\n",
    "    plt.scatter(point[0],point[1],c=color)"
   ]
  },
  {
   "cell_type": "code",
   "execution_count": 42,
   "metadata": {},
   "outputs": [
    {
     "data": {
      "text/plain": [
       "[<matplotlib.lines.Line2D at 0x7f58907299b0>]"
      ]
     },
     "execution_count": 42,
     "metadata": {},
     "output_type": "execute_result"
    },
    {
     "data": {
      "image/png": "[encoded data removed]",
      "text/plain": [
       "<Figure size 432x288 with 1 Axes>"
      ]
     },
     "metadata": {},
     "output_type": "display_data"
    }
   ],
   "source": [
    "# training loop\n",
    "\n",
    "learning_rate = 0.5 # select a random learning rate , involves hit and trial\n",
    "costs = []\n",
    "for i in range(1, 500000):\n",
    "    random_index = np.random.randint(len(data)) # generate a random index\n",
    "    point = data[random_index] # point is a random flower dimension from the original matrix\n",
    "    # print(point)\n",
    "    \n",
    "    z= point[0]*w1 + point[1]*w2 + b # here we calculate value of z\n",
    "    prediction = sigmoid(z) # prediction for z is calculated\n",
    "    # print(h)\n",
    "    \n",
    "    target = point[2] \n",
    "    cost = np.square(prediction - target) # cost is calculated using the error\n",
    "    costs.append(cost)\n",
    "    \n",
    "    # calculation of derivatives for backpropagation\n",
    "    dcost_dpred = 2 * (prediction - target)\n",
    "    dpred_dz = sigmoid_p(z)\n",
    "    \n",
    "    dz_dw1 = point[0]\n",
    "    dz_dw2 = point[1]\n",
    "    dz_db = 1\n",
    "    \n",
    "    dcost_dw1 = dcost_dpred * dpred_dz * dz_dw1 # expression equals dcost/dw1\n",
    "    dcost_dw2 = dcost_dpred * dpred_dz * dz_dw2 # expression equals dcost/dw2\n",
    "    dcost_db = dcost_dpred * dpred_dz * dz_db # expression equals dcost/db\n",
    "    \n",
    "    # gradient descent is applied\n",
    "    w1 = w1 - learning_rate * dcost_dw1\n",
    "    w2 = w2 - learning_rate * dcost_dw2\n",
    "    b = b - learning_rate * dcost_db\n",
    "\n",
    "# the graph below indicates how cost is decreasing gradually\n",
    "plt.plot(costs)"
   ]
  },
  {
   "cell_type": "code",
   "execution_count": 32,
   "metadata": {},
   "outputs": [],
   "source": [
    "# making predictions\n",
    "\n",
    "import os\n",
    "\n",
    "def which_flower(length, width):\n",
    "    z = length*w1 + width*w2 + b\n",
    "    pred = sigmoid(z)\n",
    "    if pred > 0.5:\n",
    "        print(length,width,\"  -->  red flower\")\n",
    "    else:\n",
    "        print(length,width,\"  -->  blue flower\")"
   ]
  },
  {
   "cell_type": "code",
   "execution_count": 33,
   "metadata": {},
   "outputs": [
    {
     "name": "stdout",
     "output_type": "stream",
     "text": [
      "3 1.5   -->  red flower\n",
      "2 1   -->  blue flower\n",
      "4 1.5   -->  red flower\n",
      "3 1   -->  blue flower\n",
      "3.5 0.5   -->  red flower\n",
      "2 0.5   -->  blue flower\n",
      "5.5 1   -->  red flower\n",
      "1 1   -->  blue flower\n"
     ]
    }
   ],
   "source": [
    "# classification of flowers in data\n",
    "\n",
    "for i in data:\n",
    "    which_flower(i[0],i[1])"
   ]
  },
  {
   "cell_type": "code",
   "execution_count": 34,
   "metadata": {},
   "outputs": [
    {
     "name": "stdout",
     "output_type": "stream",
     "text": [
      "4.5 1   -->  red flower\n"
     ]
    }
   ],
   "source": [
    "which_flower(4.5,1) # correct answer"
   ]
  }
 ],
 "metadata": {
  "kernelspec": {
   "display_name": "Python 3",
   "language": "python",
   "name": "python3"
  },
  "language_info": {
   "codemirror_mode": {
    "name": "ipython",
    "version": 3
   },
   "file_extension": ".py",
   "mimetype": "text/x-python",
   "name": "python",
   "nbconvert_exporter": "python",
   "pygments_lexer": "ipython3",
   "version": "3.6.5"
  }
 },
 "nbformat": 4,
 "nbformat_minor": 2
}
